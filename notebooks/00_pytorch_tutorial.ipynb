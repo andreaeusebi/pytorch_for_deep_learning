{
  "nbformat": 4,
  "nbformat_minor": 0,
  "metadata": {
    "colab": {
      "provenance": [],
      "toc_visible": true,
      "gpuType": "T4",
      "authorship_tag": "ABX9TyPOS1AK7UUL5DajVwSdpEZf",
      "include_colab_link": true
    },
    "kernelspec": {
      "name": "python3",
      "display_name": "Python 3"
    },
    "language_info": {
      "name": "python"
    },
    "accelerator": "GPU"
  },
  "cells": [
    {
      "cell_type": "markdown",
      "metadata": {
        "id": "view-in-github",
        "colab_type": "text"
      },
      "source": [
        "<a href=\"https://colab.research.google.com/github/andreaeusebi/pytorch_for_deep_learning/blob/main/notebooks/00_pytorch_tutorial.ipynb\" target=\"_parent\"><img src=\"https://colab.research.google.com/assets/colab-badge.svg\" alt=\"Open In Colab\"/></a>"
      ]
    },
    {
      "cell_type": "markdown",
      "source": [
        "# 00. PyTorch Fundamentals"
      ],
      "metadata": {
        "id": "SFGfCV3rtlR2"
      }
    },
    {
      "cell_type": "markdown",
      "source": [
        "## Preliminary"
      ],
      "metadata": {
        "id": "tW8XDY2puLz0"
      }
    },
    {
      "cell_type": "code",
      "execution_count": null,
      "metadata": {
        "id": "IqoBD02Uq_Wl"
      },
      "outputs": [],
      "source": [
        "print(\"Hello world!\")"
      ]
    },
    {
      "cell_type": "code",
      "source": [
        "!nvidia-smi"
      ],
      "metadata": {
        "id": "iqCie3xxriAj"
      },
      "execution_count": null,
      "outputs": []
    },
    {
      "cell_type": "markdown",
      "source": [
        "## Importing pytorch"
      ],
      "metadata": {
        "id": "aFfBYWdTvVFu"
      }
    },
    {
      "cell_type": "code",
      "source": [
        "import torch\n",
        "print(torch.__version__)"
      ],
      "metadata": {
        "id": "wzjSblRHvWqe"
      },
      "execution_count": null,
      "outputs": []
    },
    {
      "cell_type": "markdown",
      "source": [
        "## Introduction to Tensors"
      ],
      "metadata": {
        "id": "6KbgK8yXwPqa"
      }
    },
    {
      "cell_type": "markdown",
      "source": [
        "### Creating tensors"
      ],
      "metadata": {
        "id": "WYN5O57C4zkK"
      }
    },
    {
      "cell_type": "code",
      "source": [
        "# scalar\n",
        "scalar = torch.tensor(7)\n",
        "scalar"
      ],
      "metadata": {
        "id": "YjpKo9lXwfdP"
      },
      "execution_count": null,
      "outputs": []
    },
    {
      "cell_type": "code",
      "source": [
        "# scalar has zero dimension (is just a number)\n",
        "scalar.ndim"
      ],
      "metadata": {
        "id": "yAwLo7e5ww4O"
      },
      "execution_count": null,
      "outputs": []
    },
    {
      "cell_type": "code",
      "source": [
        "# if you want to get directly the number from Tensor object:\n",
        "scalar.item()"
      ],
      "metadata": {
        "id": "35Ppj5swz95u"
      },
      "execution_count": null,
      "outputs": []
    },
    {
      "cell_type": "code",
      "source": [
        "# vector\n",
        "vector = torch.tensor([7, 7])\n",
        "vector"
      ],
      "metadata": {
        "id": "Lfr4iqtO0Q28"
      },
      "execution_count": null,
      "outputs": []
    },
    {
      "cell_type": "code",
      "source": [
        "# vectors have 1 dimension:\n",
        "vector.ndim"
      ],
      "metadata": {
        "id": "UztEmyvS0jV9"
      },
      "execution_count": null,
      "outputs": []
    },
    {
      "cell_type": "code",
      "source": [
        "vector.shape"
      ],
      "metadata": {
        "id": "G9HzQTNO0wAu"
      },
      "execution_count": null,
      "outputs": []
    },
    {
      "cell_type": "code",
      "source": [
        "# matrix\n",
        "MATRIX = torch.tensor([[7, 8],\n",
        "                       [9, 10]])\n",
        "MATRIX"
      ],
      "metadata": {
        "id": "2XXmvIU603ss"
      },
      "execution_count": null,
      "outputs": []
    },
    {
      "cell_type": "code",
      "source": [
        "# matrix has dimension 2\n",
        "MATRIX.ndim"
      ],
      "metadata": {
        "id": "So0RBmEx1Sms"
      },
      "execution_count": null,
      "outputs": []
    },
    {
      "cell_type": "code",
      "source": [
        "MATRIX[1]"
      ],
      "metadata": {
        "id": "ZcBYfSV81Uh5"
      },
      "execution_count": null,
      "outputs": []
    },
    {
      "cell_type": "code",
      "source": [
        "MATRIX.shape"
      ],
      "metadata": {
        "id": "SYYJZ2Ga1Zt8"
      },
      "execution_count": null,
      "outputs": []
    },
    {
      "cell_type": "code",
      "source": [
        "# tensor\n",
        "TENSOR = torch.tensor([[[1, 2, 3],\n",
        "                        [4, 5, 6],\n",
        "                        [7, 8, 9]]])\n",
        "TENSOR"
      ],
      "metadata": {
        "id": "qpMSx4NR1e0M"
      },
      "execution_count": null,
      "outputs": []
    },
    {
      "cell_type": "code",
      "source": [
        "# this tensor has dimension 3\n",
        "TENSOR.ndim"
      ],
      "metadata": {
        "id": "K7SrAh3z1xa5"
      },
      "execution_count": null,
      "outputs": []
    },
    {
      "cell_type": "code",
      "source": [
        "TENSOR.shape"
      ],
      "metadata": {
        "id": "PT7sAaoB12jO"
      },
      "execution_count": null,
      "outputs": []
    },
    {
      "cell_type": "markdown",
      "source": [
        "It is telling us that we are having one 3x3 matrix"
      ],
      "metadata": {
        "id": "z95WMZ7n2K5y"
      }
    },
    {
      "cell_type": "code",
      "source": [
        "TENSOR[0] # dimension 0 is the first (outer, or leftmost)"
      ],
      "metadata": {
        "id": "qcjghNH614YL"
      },
      "execution_count": null,
      "outputs": []
    },
    {
      "cell_type": "code",
      "source": [
        "TENSOR_2 = torch.tensor([[[1], [2], [3]],\n",
        "                         [[4], [5], [6]],\n",
        "                         [[7], [8], [9]]])\n",
        "TENSOR_2\n",
        "\n",
        "# TENSOR_2 = torch.tensor([\n",
        "#     [[1],\n",
        "#      [2],\n",
        "#      [3]],\n",
        "#     [[4],\n",
        "#      [5],\n",
        "#      [6]],\n",
        "#     [[7],\n",
        "#      [8],\n",
        "#      [9]]\n",
        "#     ])\n",
        "# TENSOR_2"
      ],
      "metadata": {
        "id": "4YB7Q-sF2F85"
      },
      "execution_count": null,
      "outputs": []
    },
    {
      "cell_type": "code",
      "source": [
        "TENSOR_2.ndim"
      ],
      "metadata": {
        "id": "yGKEBT_j3IRd"
      },
      "execution_count": null,
      "outputs": []
    },
    {
      "cell_type": "code",
      "source": [
        "TENSOR_2.shape"
      ],
      "metadata": {
        "id": "8mOs_aTZ3w4N"
      },
      "execution_count": null,
      "outputs": []
    },
    {
      "cell_type": "markdown",
      "source": [
        "### Random Tensors"
      ],
      "metadata": {
        "id": "BjvXQCmC4trH"
      }
    },
    {
      "cell_type": "code",
      "source": [
        "# Create a random tensor of size (3, 4)\n",
        "random_tensor = torch.rand(3, 4)\n",
        "random_tensor"
      ],
      "metadata": {
        "id": "q3AJAQ6k3ypO"
      },
      "execution_count": null,
      "outputs": []
    },
    {
      "cell_type": "code",
      "source": [
        "random_tensor.ndim"
      ],
      "metadata": {
        "id": "e8O24laA6ILR"
      },
      "execution_count": null,
      "outputs": []
    },
    {
      "cell_type": "code",
      "source": [
        "random_tensor.shape"
      ],
      "metadata": {
        "id": "cvglCeKl6ryA"
      },
      "execution_count": null,
      "outputs": []
    },
    {
      "cell_type": "code",
      "source": [
        "# Create a random tensor with a similar shape to an image tensor\n",
        "random_image_size_tensor = torch.rand(size=(224, 224, 3)) # height, width, colour channels RGB\n",
        "random_image_size_tensor.shape, random_image_size_tensor.ndim"
      ],
      "metadata": {
        "id": "TDQ8wtpN62DO"
      },
      "execution_count": null,
      "outputs": []
    },
    {
      "cell_type": "markdown",
      "source": [
        "### Zeros and ones"
      ],
      "metadata": {
        "id": "KZ0-xhZH8p60"
      }
    },
    {
      "cell_type": "code",
      "source": [
        "zeros = torch.zeros(size=(3,4))\n",
        "zeros"
      ],
      "metadata": {
        "id": "nF-bg7i38t1b"
      },
      "execution_count": null,
      "outputs": []
    },
    {
      "cell_type": "code",
      "source": [
        "ones = torch.ones(size=(3,4))\n",
        "ones"
      ],
      "metadata": {
        "id": "a9DRoJj18xw9"
      },
      "execution_count": null,
      "outputs": []
    },
    {
      "cell_type": "code",
      "source": [
        "# zeros and ones tensor can be used for masks\n",
        "zeros_second_row = torch.zeros(size=(3,4))\n",
        "zeros_second_row[1] = torch.ones(4)\n",
        "zeros_second_row"
      ],
      "metadata": {
        "id": "WFuVkjPt9B4p"
      },
      "execution_count": null,
      "outputs": []
    },
    {
      "cell_type": "code",
      "source": [
        "zeros_second_row * random_tensor"
      ],
      "metadata": {
        "id": "KtLnn15r9Th-"
      },
      "execution_count": null,
      "outputs": []
    },
    {
      "cell_type": "code",
      "source": [
        "# datatype\n",
        "ones.dtype # float32 is the default data type"
      ],
      "metadata": {
        "id": "-ejoMT20-dI-"
      },
      "execution_count": null,
      "outputs": []
    },
    {
      "cell_type": "markdown",
      "source": [
        "### From range and tensors-like"
      ],
      "metadata": {
        "id": "jPli7Vmg_EKK"
      }
    },
    {
      "cell_type": "code",
      "source": [
        "# torch.arange()\n",
        "one_to_ten = torch.arange(0, 11)\n",
        "one_to_ten"
      ],
      "metadata": {
        "id": "PkCuJRAD_Zat"
      },
      "execution_count": null,
      "outputs": []
    },
    {
      "cell_type": "code",
      "source": [
        "# Creating a tensor full of zero with same shape of an other (tensor-like)\n",
        "ten_zeros = torch.zeros_like(one_to_ten)\n",
        "ten_zeros"
      ],
      "metadata": {
        "id": "6hk4X_W8_jXb"
      },
      "execution_count": null,
      "outputs": []
    },
    {
      "cell_type": "markdown",
      "source": [
        "### Tensor datatypes"
      ],
      "metadata": {
        "id": "Cmpi10QjCIbE"
      }
    },
    {
      "cell_type": "code",
      "source": [
        "# Float 32 tensor\n",
        "float_32_tensor = torch.tensor([3.0, 6.0, 9.0],\n",
        "                               dtype=torch.float32,   # what datatype is the tensor\n",
        "                               device=None,           # in which memory device stores the tensor, CPU is default\n",
        "                               requires_grad=False)   # if you want pytorch to track the gradients during operations\n",
        "float_32_tensor, float_32_tensor.dtype"
      ],
      "metadata": {
        "id": "3ldgZQSHCL-w"
      },
      "execution_count": null,
      "outputs": []
    },
    {
      "cell_type": "code",
      "source": [
        "# Convert tensor type\n",
        "float_16_tensor = float_32_tensor.type(torch.float16)\n",
        "float_16_tensor, float_16_tensor.dtype"
      ],
      "metadata": {
        "id": "XA9Sc9mOCXFT"
      },
      "execution_count": null,
      "outputs": []
    },
    {
      "cell_type": "code",
      "source": [
        "float_16_tensor * float_32_tensor"
      ],
      "metadata": {
        "id": "9ir2i9wkEViu"
      },
      "execution_count": null,
      "outputs": []
    },
    {
      "cell_type": "markdown",
      "source": [
        "### Getting information from tensors"
      ],
      "metadata": {
        "id": "qqvds1rhGJyG"
      }
    },
    {
      "cell_type": "code",
      "source": [
        "# Create a tensor\n",
        "some_tensor = torch.rand(3,4)\n",
        "some_tensor"
      ],
      "metadata": {
        "id": "S-nQUxTlEr5v"
      },
      "execution_count": null,
      "outputs": []
    },
    {
      "cell_type": "code",
      "source": [
        "# Find out details about some tensor\n",
        "print(f\"Datatype: {some_tensor.dtype}\")\n",
        "print(f\"Shape: {some_tensor.shape}\")\n",
        "print(f\"Device: {some_tensor.device}\")"
      ],
      "metadata": {
        "id": "b0pFEHGNGWMB"
      },
      "execution_count": null,
      "outputs": []
    },
    {
      "cell_type": "markdown",
      "source": [
        "### Manipulating tensors (tensor operations)"
      ],
      "metadata": {
        "id": "HloZPG4fb6AP"
      }
    },
    {
      "cell_type": "code",
      "source": [
        "# Create a tensor\n",
        "tensor = torch.tensor([1, 2, 3])\n",
        "\n",
        "# Addition\n",
        "tensor + 10"
      ],
      "metadata": {
        "id": "rENp6felGdBq"
      },
      "execution_count": null,
      "outputs": []
    },
    {
      "cell_type": "code",
      "source": [
        "# Moltiplication (element wise)\n",
        "tensor * 100"
      ],
      "metadata": {
        "id": "Ou2x3ICVcaDt"
      },
      "execution_count": null,
      "outputs": []
    },
    {
      "cell_type": "code",
      "source": [
        "# Subtraction\n",
        "tensor - 10"
      ],
      "metadata": {
        "id": "C46Um8a7ck0e"
      },
      "execution_count": null,
      "outputs": []
    },
    {
      "cell_type": "code",
      "source": [
        "# Divsion\n",
        "tensor / 2"
      ],
      "metadata": {
        "id": "nQLh5fcscrCO"
      },
      "execution_count": null,
      "outputs": []
    },
    {
      "cell_type": "code",
      "source": [
        "# Pythorch built int multiplication\n",
        "torch.mul(tensor, 10)"
      ],
      "metadata": {
        "id": "f9s26rQtctHe"
      },
      "execution_count": null,
      "outputs": []
    },
    {
      "cell_type": "code",
      "source": [
        "# Pythorch built int addition\n",
        "torch.add(tensor, 4)"
      ],
      "metadata": {
        "id": "2CHOFi0Uc6ac"
      },
      "execution_count": null,
      "outputs": []
    },
    {
      "cell_type": "code",
      "source": [
        "### Matrix multiplication\n",
        "# There exist two types:\n",
        "# 1) element wise\n",
        "print(tensor)\n",
        "print(tensor * tensor)"
      ],
      "metadata": {
        "id": "yJ7dmfZ7c_Qr"
      },
      "execution_count": null,
      "outputs": []
    },
    {
      "cell_type": "code",
      "source": [
        "# 2) matrix multiplication\n",
        "print(tensor)\n",
        "print(torch.matmul(tensor, tensor))"
      ],
      "metadata": {
        "id": "EgjxgO3wdmnX"
      },
      "execution_count": null,
      "outputs": []
    },
    {
      "cell_type": "code",
      "source": [
        "# Matrix multiplication can be performed also using \"@\" symbol\n",
        "print(tensor)\n",
        "print(tensor @ tensor)"
      ],
      "metadata": {
        "id": "mCzFsxhjdzC_"
      },
      "execution_count": null,
      "outputs": []
    },
    {
      "cell_type": "code",
      "source": [
        "# REMARK: Matrix multiplication rules! Can multiply only matrices whose dimensions match!\n",
        "# i.e. n x m @ m x k\n",
        "tensor1 = torch.tensor([[1, 2],\n",
        "                        [3, 4]])\n",
        "tensor2 = torch.tensor([[1, 0],\n",
        "                        [0, 1]])\n",
        "\n",
        "print(torch.matmul(tensor1, tensor2))"
      ],
      "metadata": {
        "id": "FeRnhMraeh2u"
      },
      "execution_count": null,
      "outputs": []
    },
    {
      "cell_type": "code",
      "source": [
        "## REMARK: torch.mm is an alias for torch.matmul()"
      ],
      "metadata": {
        "id": "K5hJKYBQe8hr"
      },
      "execution_count": null,
      "outputs": []
    },
    {
      "cell_type": "code",
      "source": [
        "# Matrix transpose\n",
        "print(tensor1)\n",
        "print(tensor1.T)"
      ],
      "metadata": {
        "id": "t46tW7TUfpea"
      },
      "execution_count": null,
      "outputs": []
    },
    {
      "cell_type": "markdown",
      "source": [
        "## Reshaping, stacking, squeezing and unsqueezing tensors\n",
        "\n",
        "* Reshaping: reshapes an input tensor to a define shaped\n",
        "* View: return a view of an input tensor of a certain shape but keep the same memory as the original tensork\n",
        "* Stacking: combine multiple tensors on top of each other (vstack) or side by side (hstack)\n",
        "* Squeeze: removes all \"1\" dimensions from a tensor\n",
        "* Unsqueeze: add a \"1\" dimension to a target tensor\n",
        "* Permute: return a view of the input tensor with dimensions permuted (swapped in a certain way)"
      ],
      "metadata": {
        "id": "rcF0rE5nhfhq"
      }
    },
    {
      "cell_type": "code",
      "source": [
        "# Reimport torch so that we can execute cells from this point on\n",
        "import torch\n",
        "\n",
        "# Create a tensor\n",
        "x = torch.arange(1.0, 11.0)\n",
        "x, x.shape"
      ],
      "metadata": {
        "id": "1Hb7GF6whj_m"
      },
      "execution_count": null,
      "outputs": []
    },
    {
      "cell_type": "code",
      "source": [
        "# Reshape: add an extra dimension\n",
        "x_reshaped = x.reshape(1, 10)\n",
        "x_reshaped, x_reshaped.shape"
      ],
      "metadata": {
        "id": "Re-yax6_jDb1"
      },
      "execution_count": null,
      "outputs": []
    },
    {
      "cell_type": "code",
      "source": [
        "# Change the view\n",
        "z = x.view(1, 10)\n",
        "z, z.shape"
      ],
      "metadata": {
        "id": "GmAXQrYTjNH9"
      },
      "execution_count": null,
      "outputs": []
    },
    {
      "cell_type": "code",
      "source": [
        "# Remark: changing z changes x!!\n",
        "z[:, 0] = 5\n",
        "x, x.shape"
      ],
      "metadata": {
        "id": "toO8i2a8kNeO"
      },
      "execution_count": null,
      "outputs": []
    },
    {
      "cell_type": "code",
      "source": [
        "# Stack\n",
        "x_stacked = torch.stack([x, x, x, x], dim=1)\n",
        "x_stacked, x_stacked.shape"
      ],
      "metadata": {
        "id": "moD4GTGqkXet"
      },
      "execution_count": null,
      "outputs": []
    },
    {
      "cell_type": "code",
      "source": [
        "# Squeeze - Removes all singles dimensions from a target tensor, i.e., if size is 5 x 1 -> it gets: 5\n",
        "x_reshaped, x_reshaped.shape"
      ],
      "metadata": {
        "id": "FD11RQqhlENo"
      },
      "execution_count": null,
      "outputs": []
    },
    {
      "cell_type": "code",
      "source": [
        "x_squeezed = x_reshaped.squeeze()\n",
        "print(f\"Squeezed: {x_squeezed}, Shape: {x_squeezed.shape}\")"
      ],
      "metadata": {
        "id": "22EoPJNrmJ7x"
      },
      "execution_count": null,
      "outputs": []
    },
    {
      "cell_type": "code",
      "source": [
        "# Unsqueeze - add a single dimension to a target tensor at a specific dimension\n",
        "print(f\"Previous target: {x_squeezed}\")\n",
        "print(f\"Previous shape: {x_squeezed.shape}\")\n",
        "\n",
        "x_unsqueezed = x_squeezed.unsqueeze(dim=0)\n",
        "print(f\"Unsqueezed target: {x_unsqueezed}\")\n",
        "print(f\"Unsqueezed shape: {x_unsqueezed.shape}\")"
      ],
      "metadata": {
        "id": "jUV5M0XAmXYu"
      },
      "execution_count": null,
      "outputs": []
    },
    {
      "cell_type": "code",
      "source": [
        "# Permute - rearranges the dimensions of a target tensor in a specified order\n",
        "## REMARK: returns a view!! So changig returned tensor will change also input tensor!\n",
        "x_permuted = torch.permute(x_unsqueezed, dims=(1, 0))\n",
        "x_permuted"
      ],
      "metadata": {
        "id": "bD-OJOJynskb"
      },
      "execution_count": null,
      "outputs": []
    },
    {
      "cell_type": "code",
      "source": [
        "# Change permuted tensor\n",
        "x_permuted[1, 0] = 99.\n",
        "x_permuted"
      ],
      "metadata": {
        "id": "2Sp1fOxAor3O"
      },
      "execution_count": null,
      "outputs": []
    },
    {
      "cell_type": "code",
      "source": [
        "# let's see if original tensor has been modified\n",
        "x_unsqueezed"
      ],
      "metadata": {
        "id": "6QJ9d_gXpCPP"
      },
      "execution_count": null,
      "outputs": []
    },
    {
      "cell_type": "markdown",
      "source": [
        "## Indexing\n",
        "\n",
        "Indexing in PyTorch is very similar to NumPy"
      ],
      "metadata": {
        "id": "NjoosVMRrEGD"
      }
    },
    {
      "cell_type": "code",
      "source": [
        "import torch\n",
        "x = torch.arange(1, 10).reshape((1, 3, 3))\n",
        "x, x.shape"
      ],
      "metadata": {
        "id": "onLv23PWrFfF"
      },
      "execution_count": null,
      "outputs": []
    },
    {
      "cell_type": "code",
      "source": [
        "# Let's index on the first dim (dim = 0)\n",
        "x[0]"
      ],
      "metadata": {
        "id": "rJcTTPTJraI-"
      },
      "execution_count": null,
      "outputs": []
    },
    {
      "cell_type": "code",
      "source": [
        "# Let's index on the second dim (dim = 1)\n",
        "x[0, 0]"
      ],
      "metadata": {
        "id": "Sd9fCJhrrq9s"
      },
      "execution_count": null,
      "outputs": []
    },
    {
      "cell_type": "code",
      "source": [
        "# Let's index on the third dim (dim = 2)\n",
        "x[0, 0, 0], x[0, 0, 1]"
      ],
      "metadata": {
        "id": "2aAXy3HqrxUy"
      },
      "execution_count": null,
      "outputs": []
    },
    {
      "cell_type": "code",
      "source": [
        "# Use : to get all values from a specific dimension\n",
        "x[:, :, 2]"
      ],
      "metadata": {
        "id": "DdM5L1AYr1AQ"
      },
      "execution_count": null,
      "outputs": []
    },
    {
      "cell_type": "markdown",
      "source": [
        "## PyTorch & NumPy"
      ],
      "metadata": {
        "id": "zpRoR-6ezewN"
      }
    },
    {
      "cell_type": "code",
      "source": [
        "# To get a PyTorch tensor from NumPy array: torch.from_numpy(ndarray)\n",
        "# To return back to NumPy array from PyTorch tensor: torch.Tensor.numpy()\n",
        "\n",
        "import torch\n",
        "import numpy as np\n",
        "\n",
        "# Numpy to Tensor\n",
        "\n",
        "array = np.arange(1.0, 8.0)\n",
        "tensor = torch.from_numpy(array)\n",
        "array, tensor, tensor.dtype"
      ],
      "metadata": {
        "id": "rVImJJrjzg1k"
      },
      "execution_count": null,
      "outputs": []
    },
    {
      "cell_type": "code",
      "source": [
        "# Numpy default datatype is float64\n",
        "array.dtype"
      ],
      "metadata": {
        "id": "vqeub6X-0ZfQ"
      },
      "execution_count": null,
      "outputs": []
    },
    {
      "cell_type": "code",
      "source": [
        "# If you want default float32 type:\n",
        "tensor = torch.from_numpy(array).type(torch.float32)\n",
        "array, tensor, tensor.dtype"
      ],
      "metadata": {
        "id": "GF6rUh5V0dxK"
      },
      "execution_count": null,
      "outputs": []
    },
    {
      "cell_type": "code",
      "source": [
        "# change numpy array. will changes be reflected also on tensor?\n",
        "array = array + 1\n",
        "array, tensor\n",
        "# no!"
      ],
      "metadata": {
        "id": "Y0tPu8EQ0sqC"
      },
      "execution_count": null,
      "outputs": []
    },
    {
      "cell_type": "code",
      "source": [
        "# change tensor array. will changes be reflected also on array?\n",
        "tensor = tensor + 10\n",
        "array, tensor\n",
        "# no!"
      ],
      "metadata": {
        "id": "s7wgWYZx16ta"
      },
      "execution_count": null,
      "outputs": []
    },
    {
      "cell_type": "code",
      "source": [
        "# Tensor to Numpy\n",
        "tensor = torch.ones(7)\n",
        "numpy_tensor = tensor.numpy()\n",
        "tensor, numpy_tensor, numpy_tensor.dtype"
      ],
      "metadata": {
        "id": "FFUVIxQL2FbK"
      },
      "execution_count": null,
      "outputs": []
    },
    {
      "cell_type": "code",
      "source": [
        "# change tensor array. will changes be reflected also on array?\n",
        "tensor = tensor + 20\n",
        "tensor, numpy_tensor\n",
        "# no!"
      ],
      "metadata": {
        "id": "NVwD5Z9D2omN"
      },
      "execution_count": null,
      "outputs": []
    },
    {
      "cell_type": "markdown",
      "source": [
        "## Reproducibility (trying to take random out of random)\n",
        "\n",
        "\n",
        "To reduce the randomness in neural networks and PyTorch come the concept of **random seed**."
      ],
      "metadata": {
        "id": "lON2Vf_C3D8V"
      }
    },
    {
      "cell_type": "code",
      "source": [
        "import torch\n",
        "\n",
        "# Create two random tensors\n",
        "random_tensor_A = torch.rand(3, 4)\n",
        "random_tensor_B = torch.rand(3, 4)\n",
        "\n",
        "print(f\"Tensor A:\\n{random_tensor_A}\\n\")\n",
        "print(f\"Tensor B:\\n{random_tensor_B}\\n\")\n",
        "print(f\"Does Tensor A equal Tensor B? (anywhere)\")\n",
        "random_tensor_A == random_tensor_B"
      ],
      "metadata": {
        "id": "Bie2VsS05Rid"
      },
      "execution_count": null,
      "outputs": []
    },
    {
      "cell_type": "code",
      "source": [
        "import torch\n",
        "import random\n",
        "\n",
        "# # Set the random seed\n",
        "RANDOM_SEED=42 # try changing this to different values and see what happens to the numbers below\n",
        "torch.manual_seed(seed=RANDOM_SEED)\n",
        "random_tensor_C = torch.rand(3, 4)\n",
        "\n",
        "# Have to reset the seed every time a new rand() is called\n",
        "# Without this, tensor_D would be different to tensor_C\n",
        "torch.random.manual_seed(seed=RANDOM_SEED) # try commenting this line out and seeing what happens\n",
        "random_tensor_D = torch.rand(3, 4)\n",
        "\n",
        "print(f\"Tensor C:\\n{random_tensor_C}\\n\")\n",
        "print(f\"Tensor D:\\n{random_tensor_D}\\n\")\n",
        "print(f\"Does Tensor C equal Tensor D? (anywhere)\")\n",
        "random_tensor_C == random_tensor_D\n",
        "\n"
      ],
      "metadata": {
        "id": "9qCvJvN025aQ"
      },
      "execution_count": null,
      "outputs": []
    },
    {
      "cell_type": "code",
      "source": [],
      "metadata": {
        "id": "Jl4VeZJF5Yps"
      },
      "execution_count": null,
      "outputs": []
    }
  ]
}