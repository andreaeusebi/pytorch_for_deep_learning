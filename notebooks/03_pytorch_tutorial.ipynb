{
  "nbformat": 4,
  "nbformat_minor": 0,
  "metadata": {
    "colab": {
      "provenance": [],
      "toc_visible": true,
      "gpuType": "T4",
      "authorship_tag": "ABX9TyOvWbcVsQUG3Kcfh+6pQRT6",
      "include_colab_link": true
    },
    "kernelspec": {
      "name": "python3",
      "display_name": "Python 3"
    },
    "language_info": {
      "name": "python"
    },
    "accelerator": "GPU"
  },
  "cells": [
    {
      "cell_type": "markdown",
      "metadata": {
        "id": "view-in-github",
        "colab_type": "text"
      },
      "source": [
        "<a href=\"https://colab.research.google.com/github/andreaeusebi/pytorch_for_deep_learning/blob/main/notebooks/03_pytorch_tutorial.ipynb\" target=\"_parent\"><img src=\"https://colab.research.google.com/assets/colab-badge.svg\" alt=\"Open In Colab\"/></a>"
      ]
    },
    {
      "cell_type": "markdown",
      "source": [
        "# PyTorch Computer Vision"
      ],
      "metadata": {
        "id": "kxPV8BdJbr_e"
      }
    },
    {
      "cell_type": "markdown",
      "source": [
        "## Input and output shapes:\n",
        "\n",
        "NHWC : [batch_size, height, width, color_channel]  --> many libraries use this representation\n",
        "\n",
        "NCHW : [batch_size, color_channel, height, width] --> this is the default image representation in PyTorch"
      ],
      "metadata": {
        "id": "ZwiX2WVwdfRy"
      }
    },
    {
      "cell_type": "markdown",
      "source": [
        "## Common Libraries"
      ],
      "metadata": {
        "id": "PO4piooGF2I5"
      }
    },
    {
      "cell_type": "code",
      "source": [
        "# Import PyTorch\n",
        "import torch\n",
        "from torch import nn\n",
        "\n",
        "from torch.utils.data import DataLoader\n",
        "\n",
        "print(f\"torch version: {torch.__version__}\")\n",
        "\n",
        "# Import torchvision\n",
        "import torchvision\n",
        "from torchvision import datasets\n",
        "from torchvision import transforms\n",
        "from torchvision.transforms import ToTensor\n",
        "\n",
        "print(f\"torchvision version: {torchvision.__version__}\")\n",
        "\n",
        "# Import matoplot lib\n",
        "import matplotlib.pyplot as plt"
      ],
      "metadata": {
        "colab": {
          "base_uri": "https://localhost:8080/"
        },
        "id": "E-VlEZIQefoW",
        "outputId": "1b2599d7-ac39-4e53-b9d3-d55bf7ac2b11"
      },
      "execution_count": 121,
      "outputs": [
        {
          "output_type": "stream",
          "name": "stdout",
          "text": [
            "torch version: 2.1.0+cu121\n",
            "torchvision version: 0.16.0+cu121\n"
          ]
        }
      ]
    },
    {
      "cell_type": "markdown",
      "source": [
        "## 1. Getting a Dataset"
      ],
      "metadata": {
        "id": "BPhlg0hGE4iS"
      }
    },
    {
      "cell_type": "code",
      "source": [
        "train_data = datasets.FashionMNIST(root=\"data\",\n",
        "                                   train=True,\n",
        "                                   download=True,\n",
        "                                   transform=ToTensor(),\n",
        "                                   target_transform=None)\n",
        "\n",
        "test_data = datasets.FashionMNIST(root=\"data\",\n",
        "                                  train=False,\n",
        "                                  download=True,\n",
        "                                  transform=ToTensor(),\n",
        "                                  target_transform=None)"
      ],
      "metadata": {
        "id": "4CGJVEMGF91C"
      },
      "execution_count": 122,
      "outputs": []
    },
    {
      "cell_type": "code",
      "source": [
        "len(train_data), len(test_data)"
      ],
      "metadata": {
        "colab": {
          "base_uri": "https://localhost:8080/"
        },
        "id": "3J0OPYZ9I0TM",
        "outputId": "22c4b720-85ae-4702-a8ce-84e4ac5de591"
      },
      "execution_count": 123,
      "outputs": [
        {
          "output_type": "execute_result",
          "data": {
            "text/plain": [
              "(60000, 10000)"
            ]
          },
          "metadata": {},
          "execution_count": 123
        }
      ]
    },
    {
      "cell_type": "code",
      "source": [
        "def printTensorInfo(x_ : torch.Tensor, name_ : str):\n",
        "  print(f\"--- {name_} Info:\")\n",
        "  print(f\"--- Shape: {x_.shape}\")\n",
        "  print(f\"--- Dtype: {x_.dtype}\")\n",
        "  print(f\"--- Device: {x_.device}\")\n",
        "  print(f\"------------------------\")\n",
        "\n",
        "print(type(train_data))\n",
        "print(type(train_data[0]))\n",
        "print(type(train_data[0][0]))\n",
        "print(type(train_data[0][1]))\n",
        "\n",
        "print(type(train_data.__getitem__(0)))\n",
        "\n",
        "printTensorInfo(train_data[0][0], \"train_data[0][0]\")"
      ],
      "metadata": {
        "colab": {
          "base_uri": "https://localhost:8080/"
        },
        "id": "glkGHB_2JJ6S",
        "outputId": "9cb15b6c-ad00-430c-9eb9-3fa388e81d7e"
      },
      "execution_count": 124,
      "outputs": [
        {
          "output_type": "stream",
          "name": "stdout",
          "text": [
            "<class 'torchvision.datasets.mnist.FashionMNIST'>\n",
            "<class 'tuple'>\n",
            "<class 'torch.Tensor'>\n",
            "<class 'int'>\n",
            "<class 'tuple'>\n",
            "--- train_data[0][0] Info:\n",
            "--- Shape: torch.Size([1, 28, 28])\n",
            "--- Dtype: torch.float32\n",
            "--- Device: cpu\n",
            "------------------------\n"
          ]
        }
      ]
    },
    {
      "cell_type": "code",
      "source": [
        "class_names = train_data.classes\n",
        "class_names"
      ],
      "metadata": {
        "colab": {
          "base_uri": "https://localhost:8080/"
        },
        "id": "w5Em_r7iJntE",
        "outputId": "1ca34ba1-8263-41ae-fde8-2a3ecb3fff6b"
      },
      "execution_count": 125,
      "outputs": [
        {
          "output_type": "execute_result",
          "data": {
            "text/plain": [
              "['T-shirt/top',\n",
              " 'Trouser',\n",
              " 'Pullover',\n",
              " 'Dress',\n",
              " 'Coat',\n",
              " 'Sandal',\n",
              " 'Shirt',\n",
              " 'Sneaker',\n",
              " 'Bag',\n",
              " 'Ankle boot']"
            ]
          },
          "metadata": {},
          "execution_count": 125
        }
      ]
    },
    {
      "cell_type": "code",
      "source": [
        "class_to_idx = train_data.class_to_idx\n",
        "class_to_idx"
      ],
      "metadata": {
        "colab": {
          "base_uri": "https://localhost:8080/"
        },
        "id": "P3bjQe4CL71S",
        "outputId": "05c41f8b-7c2d-4508-cc6f-046558ad3a54"
      },
      "execution_count": 126,
      "outputs": [
        {
          "output_type": "execute_result",
          "data": {
            "text/plain": [
              "{'T-shirt/top': 0,\n",
              " 'Trouser': 1,\n",
              " 'Pullover': 2,\n",
              " 'Dress': 3,\n",
              " 'Coat': 4,\n",
              " 'Sandal': 5,\n",
              " 'Shirt': 6,\n",
              " 'Sneaker': 7,\n",
              " 'Bag': 8,\n",
              " 'Ankle boot': 9}"
            ]
          },
          "metadata": {},
          "execution_count": 126
        }
      ]
    },
    {
      "cell_type": "code",
      "source": [
        "train_data.targets\n"
      ],
      "metadata": {
        "colab": {
          "base_uri": "https://localhost:8080/"
        },
        "id": "bAlwGqDzMBsg",
        "outputId": "3aa324f7-5264-45fd-a982-b060d8cb803e"
      },
      "execution_count": 127,
      "outputs": [
        {
          "output_type": "execute_result",
          "data": {
            "text/plain": [
              "tensor([9, 0, 0,  ..., 3, 0, 5])"
            ]
          },
          "metadata": {},
          "execution_count": 127
        }
      ]
    },
    {
      "cell_type": "markdown",
      "source": [
        "### Visualizer our data"
      ],
      "metadata": {
        "id": "6CbV6itWMX1V"
      }
    },
    {
      "cell_type": "code",
      "source": [
        "image, label = train_data[0]\n",
        "\n",
        "print(f\"Image shape: {image.shape}\")\n",
        "\n",
        "plt.imshow(image.squeeze())\n",
        "plt.title(label)"
      ],
      "metadata": {
        "colab": {
          "base_uri": "https://localhost:8080/",
          "height": 487
        },
        "id": "wsX1WHAqN2jC",
        "outputId": "88cb3a4a-ec84-4356-967b-ae2f85a4794b"
      },
      "execution_count": 128,
      "outputs": [
        {
          "output_type": "stream",
          "name": "stdout",
          "text": [
            "Image shape: torch.Size([1, 28, 28])\n"
          ]
        },
        {
          "output_type": "execute_result",
          "data": {
            "text/plain": [
              "Text(0.5, 1.0, '9')"
            ]
          },
          "metadata": {},
          "execution_count": 128
        },
        {
          "output_type": "display_data",
          "data": {
            "text/plain": [
              "<Figure size 640x480 with 1 Axes>"
            ],
            "image/png": "[encoded data removed]"
          },
          "metadata": {}
        }
      ]
    },
    {
      "cell_type": "code",
      "source": [
        "plt.imshow(image.squeeze(), cmap=\"gray\");\n",
        "plt.title(class_names[label]);"
      ],
      "metadata": {
        "colab": {
          "base_uri": "https://localhost:8080/",
          "height": 452
        },
        "id": "xYYgxfqzOCKP",
        "outputId": "429418d1-6a30-4619-bfeb-7c4678a042d4"
      },
      "execution_count": 129,
      "outputs": [
        {
          "output_type": "display_data",
          "data": {
            "text/plain": [
              "<Figure size 640x480 with 1 Axes>"
            ],
            "image/png": "[encoded data removed]"
          },
          "metadata": {}
        }
      ]
    },
    {
      "cell_type": "markdown",
      "source": [
        "## 2. Prepare DataLoader"
      ],
      "metadata": {
        "id": "2_OHJhO8OapS"
      }
    },
    {
      "cell_type": "code",
      "source": [
        "train_data"
      ],
      "metadata": {
        "colab": {
          "base_uri": "https://localhost:8080/"
        },
        "id": "r-4g8MKuRZLf",
        "outputId": "8b779369-fe5c-4fd2-9c62-62723adc72ae"
      },
      "execution_count": 130,
      "outputs": [
        {
          "output_type": "execute_result",
          "data": {
            "text/plain": [
              "Dataset FashionMNIST\n",
              "    Number of datapoints: 60000\n",
              "    Root location: data\n",
              "    Split: Train\n",
              "    StandardTransform\n",
              "Transform: ToTensor()"
            ]
          },
          "metadata": {},
          "execution_count": 130
        }
      ]
    },
    {
      "cell_type": "code",
      "source": [
        "test_data"
      ],
      "metadata": {
        "colab": {
          "base_uri": "https://localhost:8080/"
        },
        "id": "6EWW3qmURaJh",
        "outputId": "5145b0ad-e4b8-416a-dad8-a842cdb0a2de"
      },
      "execution_count": 131,
      "outputs": [
        {
          "output_type": "execute_result",
          "data": {
            "text/plain": [
              "Dataset FashionMNIST\n",
              "    Number of datapoints: 10000\n",
              "    Root location: data\n",
              "    Split: Test\n",
              "    StandardTransform\n",
              "Transform: ToTensor()"
            ]
          },
          "metadata": {},
          "execution_count": 131
        }
      ]
    },
    {
      "cell_type": "markdown",
      "source": [
        "We want to turn our data into batches (or mini-batches)"
      ],
      "metadata": {
        "id": "FSukn6r-RbYn"
      }
    },
    {
      "cell_type": "code",
      "source": [
        "BATCH_SIZE = 32\n",
        "\n",
        "# Turn datasets into Python Iterable\n",
        "train_dataloader = DataLoader(dataset=train_data,\n",
        "                              batch_size=BATCH_SIZE,\n",
        "                              shuffle=True)\n",
        "\n",
        "test_dataloader = DataLoader(dataset=test_data,\n",
        "                              batch_size=BATCH_SIZE,\n",
        "                              shuffle=False)"
      ],
      "metadata": {
        "id": "HZ3jReRNS9cl"
      },
      "execution_count": 132,
      "outputs": []
    },
    {
      "cell_type": "code",
      "source": [
        "print(type(train_dataloader))"
      ],
      "metadata": {
        "colab": {
          "base_uri": "https://localhost:8080/"
        },
        "id": "B5zabSXlT42z",
        "outputId": "e72b3a8f-299f-4ae5-e269-43c205c38f2b"
      },
      "execution_count": 133,
      "outputs": [
        {
          "output_type": "stream",
          "name": "stdout",
          "text": [
            "<class 'torch.utils.data.dataloader.DataLoader'>\n"
          ]
        }
      ]
    },
    {
      "cell_type": "code",
      "source": [
        "print(f\"train_dataloader: {train_dataloader}\")"
      ],
      "metadata": {
        "colab": {
          "base_uri": "https://localhost:8080/"
        },
        "id": "jGIXO1NpUDch",
        "outputId": "3ae768ef-6aa5-4d25-ce35-04f66c7a3076"
      },
      "execution_count": 134,
      "outputs": [
        {
          "output_type": "stream",
          "name": "stdout",
          "text": [
            "train_dataloader: <torch.utils.data.dataloader.DataLoader object at 0x7cd2a80830a0>\n"
          ]
        }
      ]
    },
    {
      "cell_type": "code",
      "source": [
        "train_features_batch, train_labels_batch = next(iter(train_dataloader))\n",
        "test_features_batch, test_labels_batch = next(iter(test_dataloader))\n",
        "\n",
        "print(f\"train_features_batch type: {type(train_features_batch)}\")\n",
        "print(f\"train_features_batch shape: {train_features_batch.shape}\")\n",
        "\n",
        "print(f\"train_labels_batch type: {type(train_labels_batch)}\")\n",
        "print(f\"train_labels_batch shape: {train_labels_batch.shape}\")"
      ],
      "metadata": {
        "colab": {
          "base_uri": "https://localhost:8080/"
        },
        "id": "U77vu7rlU682",
        "outputId": "3f879343-6a52-4000-cc32-fffedd2f4843"
      },
      "execution_count": 135,
      "outputs": [
        {
          "output_type": "stream",
          "name": "stdout",
          "text": [
            "train_features_batch type: <class 'torch.Tensor'>\n",
            "train_features_batch shape: torch.Size([32, 1, 28, 28])\n",
            "train_labels_batch type: <class 'torch.Tensor'>\n",
            "train_labels_batch shape: torch.Size([32])\n"
          ]
        }
      ]
    },
    {
      "cell_type": "code",
      "source": [
        "# Show a sample\n",
        "RANDOM_SEED = 42\n",
        "torch.manual_seed(RANDOM_SEED)\n",
        "\n",
        "print(f\"len(train_features_batch): {len(train_features_batch)}\")\n",
        "\n",
        "random_idx = torch.randint(0, len(train_features_batch), (1,)).item()\n",
        "\n",
        "print(f\"random_idx: {random_idx}\")\n",
        "\n",
        "random_img, random_label = train_features_batch[random_idx], train_labels_batch[random_idx]\n",
        "plt.imshow(random_img.squeeze(), cmap=\"gray\");\n",
        "plt.title(class_names[random_label]);"
      ],
      "metadata": {
        "colab": {
          "base_uri": "https://localhost:8080/",
          "height": 487
        },
        "id": "eF7nR9pDURlj",
        "outputId": "abca8c9f-4ea4-427c-e874-4f46822cc755"
      },
      "execution_count": 167,
      "outputs": [
        {
          "output_type": "stream",
          "name": "stdout",
          "text": [
            "len(train_features_batch): 32\n",
            "random_idx: 6\n"
          ]
        },
        {
          "output_type": "display_data",
          "data": {
            "text/plain": [
              "<Figure size 640x480 with 1 Axes>"
            ],
            "image/png": "[encoded data removed]"
          },
          "metadata": {}
        }
      ]
    },
    {
      "cell_type": "markdown",
      "source": [
        "## 3. Model 0: Build a baseline model"
      ],
      "metadata": {
        "id": "ASnApJtmWeq6"
      }
    },
    {
      "cell_type": "code",
      "source": [],
      "metadata": {
        "id": "RGkGTFyKZHrJ"
      },
      "execution_count": null,
      "outputs": []
    }
  ]
}