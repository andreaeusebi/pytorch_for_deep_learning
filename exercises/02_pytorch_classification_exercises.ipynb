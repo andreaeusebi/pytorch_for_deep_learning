{
  "nbformat": 4,
  "nbformat_minor": 0,
  "metadata": {
    "colab": {
      "name": "02_pytorch_classification_exercises.ipynb",
      "provenance": [],
      "include_colab_link": true
    },
    "kernelspec": {
      "name": "python3",
      "display_name": "Python 3"
    },
    "language_info": {
      "name": "python"
    },
    "accelerator": "GPU"
  },
  "cells": [
    {
      "cell_type": "markdown",
      "metadata": {
        "id": "view-in-github",
        "colab_type": "text"
      },
      "source": [
        "<a href=\"https://colab.research.google.com/github/andreaeusebi/pytorch_for_deep_learning/blob/main/exercises/02_pytorch_classification_exercises.ipynb\" target=\"_parent\"><img src=\"https://colab.research.google.com/assets/colab-badge.svg\" alt=\"Open In Colab\"/></a>"
      ]
    },
    {
      "cell_type": "markdown",
      "source": [
        "# 02. PyTorch Classification Exercises\n",
        "\n",
        "The following is a template for 02. PyTorch Classification exercises.\n",
        "\n",
        "It's only starter code and it's your job to fill in the blanks.\n",
        "\n",
        "Because of the flexibility of PyTorch, there may be more than one way to answer the question.\n",
        "\n",
        "Don't worry about trying to be *right* just try writing code that suffices the question.\n",
        "\n",
        "## Resources\n",
        "* These exercises are based on [notebook 02 of the learn PyTorch course](https://www.learnpytorch.io/02_pytorch_classification/).\n",
        "* You can see one form of [solutions on GitHub](https://github.com/mrdbourke/pytorch-deep-learning/tree/main/extras/solutions) (but try the exercises below yourself first!)."
      ],
      "metadata": {
        "id": "ZKJFt7YxH8yl"
      }
    },
    {
      "cell_type": "code",
      "source": [
        "# Import torch\n",
        "import torch\n",
        "\n",
        "# Setup device agnostic code\n",
        "\n",
        "\n",
        "# Setup random seed\n",
        "RANDOM_SEED = 42"
      ],
      "metadata": {
        "id": "CSrUPgapO0tf"
      },
      "execution_count": null,
      "outputs": []
    },
    {
      "cell_type": "markdown",
      "source": [
        "## 1. Make a binary classification dataset with Scikit-Learn's [`make_moons()`](https://scikit-learn.org/stable/modules/generated/sklearn.datasets.make_moons.html) function.\n",
        "  * For consistency, the dataset should have 1000 samples and a `random_state=42`.\n",
        "  * Turn the data into PyTorch tensors.\n",
        "  * Split the data into training and test sets using `train_test_split` with 80% training and 20% testing."
      ],
      "metadata": {
        "id": "pH7jIZ2SPFee"
      }
    },
    {
      "cell_type": "code",
      "source": [
        "# Create a dataset with Scikit-Learn's make_moons()\n",
        "from sklearn.datasets import make_moons"
      ],
      "metadata": {
        "id": "5t4VhPV1PX1X"
      },
      "execution_count": null,
      "outputs": []
    },
    {
      "cell_type": "code",
      "source": [
        "# Turn data into a DataFrame\n",
        "import pandas as pd\n"
      ],
      "metadata": {
        "id": "SUeHZ3-3P9C7"
      },
      "execution_count": null,
      "outputs": []
    },
    {
      "cell_type": "code",
      "source": [
        "# Visualize the data on a scatter plot\n",
        "import matplotlib.pyplot as plt\n"
      ],
      "metadata": {
        "id": "owrkPSFvQPFI"
      },
      "execution_count": null,
      "outputs": []
    },
    {
      "cell_type": "code",
      "source": [
        "# Turn data into tensors of dtype float\n",
        "\n",
        "\n",
        "# Split the data into train and test sets (80% train, 20% test)\n",
        "from sklearn.model_selection import train_test_split\n"
      ],
      "metadata": {
        "id": "bDhyHn9fR4dq"
      },
      "execution_count": null,
      "outputs": []
    },
    {
      "cell_type": "markdown",
      "source": [
        "## 2. Build a model by subclassing `nn.Module` that incorporates non-linear activation functions and is capable of fitting the data you created in 1.\n",
        "  * Feel free to use any combination of PyTorch layers (linear and non-linear) you want."
      ],
      "metadata": {
        "id": "cMIjxZdzQfPz"
      }
    },
    {
      "cell_type": "code",
      "source": [
        "import torch\n",
        "from torch import nn\n",
        "\n",
        "# Inherit from nn.Module to make a model capable of fitting the mooon data\n",
        "class MoonModelV0(nn.Module):\n",
        "    ## Your code here ##\n",
        "\n",
        "    def forward(self, x):\n",
        "        ## Your code here ##\n",
        "        return\n",
        "\n",
        "# Instantiate the model\n",
        "## Your code here ##"
      ],
      "metadata": {
        "id": "hwtyvm34Ri6Q"
      },
      "execution_count": null,
      "outputs": []
    },
    {
      "cell_type": "markdown",
      "source": [
        "## 3. Setup a binary classification compatible loss function and optimizer to use when training the model built in 2."
      ],
      "metadata": {
        "id": "DSj97RwyVeFE"
      }
    },
    {
      "cell_type": "code",
      "source": [
        "# Setup loss function\n",
        "\n",
        "# Setup optimizer to optimize model's parameters"
      ],
      "metadata": {
        "id": "whSGw5qgVvxU"
      },
      "execution_count": null,
      "outputs": []
    },
    {
      "cell_type": "markdown",
      "source": [
        "## 4. Create a training and testing loop to fit the model you created in 2 to the data you created in 1.\n",
        "  * Do a forward pass of the model to see what's coming out in the form of logits, prediction probabilities and labels.\n",
        "  * To measure model accuray, you can create your own accuracy function or use the accuracy function in [TorchMetrics](https://torchmetrics.readthedocs.io/en/latest/).\n",
        "  * Train the model for long enough for it to reach over 96% accuracy.\n",
        "  * The training loop should output progress every 10 epochs of the model's training and test set loss and accuracy."
      ],
      "metadata": {
        "id": "nvk4PfNTWUAt"
      }
    },
    {
      "cell_type": "code",
      "source": [
        "# What's coming out of our model?\n",
        "\n",
        "# logits (raw outputs of model)\n",
        "print(\"Logits:\")\n",
        "## Your code here ##\n",
        "\n",
        "# Prediction probabilities\n",
        "print(\"Pred probs:\")\n",
        "## Your code here ##\n",
        "\n",
        "# Prediction labels\n",
        "print(\"Pred labels:\")\n",
        "## Your code here ##"
      ],
      "metadata": {
        "id": "AgnFdlamd2-D"
      },
      "execution_count": null,
      "outputs": []
    },
    {
      "cell_type": "code",
      "source": [
        "# Let's calculuate the accuracy using accuracy from TorchMetrics\n",
        "!pip -q install torchmetrics # Colab doesn't come with torchmetrics\n",
        "from torchmetrics import Accuracy\n",
        "\n",
        "## TODO: Uncomment this code to use the Accuracy function\n",
        "# acc_fn = Accuracy(task=\"multiclass\", num_classes=2).to(device) # send accuracy function to device\n",
        "# acc_fn"
      ],
      "metadata": {
        "id": "rUSDNHB4euoJ"
      },
      "execution_count": null,
      "outputs": []
    },
    {
      "cell_type": "code",
      "source": [
        "## TODO: Uncomment this to set the seed\n",
        "# torch.manual_seed(RANDOM_SEED)\n",
        "\n",
        "# Setup epochs\n",
        "\n",
        "\n",
        "# Send data to the device\n",
        "\n",
        "\n",
        "# Loop through the data\n",
        "# for epoch in range(epochs):\n",
        "  ### Training\n",
        "\n",
        "\n",
        "  # 1. Forward pass (logits output)\n",
        "\n",
        "  # Turn logits into prediction probabilities\n",
        "\n",
        "\n",
        "  # Turn prediction probabilities into prediction labels\n",
        "\n",
        "\n",
        "  # 2. Calculaute the loss\n",
        "  # loss = loss_fn(y_logits, y_train) # loss = compare model raw outputs to desired model outputs\n",
        "\n",
        "  # Calculate the accuracy\n",
        "  # acc = acc_fn(y_pred, y_train.int()) # the accuracy function needs to compare pred labels (not logits) with actual labels\n",
        "\n",
        "  # 3. Zero the gradients\n",
        "\n",
        "\n",
        "  # 4. Loss backward (perform backpropagation) - https://brilliant.org/wiki/backpropagation/#:~:text=Backpropagation%2C%20short%20for%20%22backward%20propagation,to%20the%20neural%20network's%20weights.\n",
        "\n",
        "  # 5. Step the optimizer (gradient descent) - https://towardsdatascience.com/gradient-descent-algorithm-a-deep-dive-cf04e8115f21#:~:text=Gradient%20descent%20(GD)%20is%20an,e.g.%20in%20a%20linear%20regression)\n",
        "\n",
        "\n",
        "  ### Testing\n",
        "  # model_0.eval()\n",
        "  # with torch.inference_mode():\n",
        "    # 1. Forward pass (to get the logits)\n",
        "\n",
        "    # Turn the test logits into prediction labels\n",
        "\n",
        "\n",
        "    # 2. Caculate the test loss/acc\n",
        "\n",
        "\n",
        "  # Print out what's happening every 100 epochs\n",
        "  # if epoch % 100 == 0:\n",
        ""
      ],
      "metadata": {
        "id": "SHBY3h7XXnxt"
      },
      "execution_count": null,
      "outputs": []
    },
    {
      "cell_type": "markdown",
      "source": [
        "## 5. Make predictions with your trained model and plot them using the `plot_decision_boundary()` function created in this notebook."
      ],
      "metadata": {
        "id": "8Nwihtomj9JO"
      }
    },
    {
      "cell_type": "code",
      "source": [
        "# Plot the model predictions\n",
        "import numpy as np\n",
        "\n",
        "def plot_decision_boundary(model, X, y):\n",
        "\n",
        "    # Put everything to CPU (works better with NumPy + Matplotlib)\n",
        "    model.to(\"cpu\")\n",
        "    X, y = X.to(\"cpu\"), y.to(\"cpu\")\n",
        "\n",
        "    # Source - https://madewithml.com/courses/foundations/neural-networks/\n",
        "    # (with modifications)\n",
        "    x_min, x_max = X[:, 0].min() - 0.1, X[:, 0].max() + 0.1\n",
        "    y_min, y_max = X[:, 1].min() - 0.1, X[:, 1].max() + 0.1\n",
        "    xx, yy = np.meshgrid(np.linspace(x_min, x_max, 101),\n",
        "                         np.linspace(y_min, y_max, 101))\n",
        "\n",
        "    # Make features\n",
        "    X_to_pred_on = torch.from_numpy(np.column_stack((xx.ravel(), yy.ravel()))).float()\n",
        "\n",
        "    # Make predictions\n",
        "    model.eval()\n",
        "    with torch.inference_mode():\n",
        "        y_logits = model(X_to_pred_on)\n",
        "\n",
        "    # Test for multi-class or binary and adjust logits to prediction labels\n",
        "    if len(torch.unique(y)) > 2:\n",
        "        y_pred = torch.softmax(y_logits, dim=1).argmax(dim=1) # mutli-class\n",
        "    else:\n",
        "        y_pred = torch.round(torch.sigmoid(y_logits)) # binary\n",
        "\n",
        "    # Reshape preds and plot\n",
        "    y_pred = y_pred.reshape(xx.shape).detach().numpy()\n",
        "    plt.contourf(xx, yy, y_pred, cmap=plt.cm.RdYlBu, alpha=0.7)\n",
        "    plt.scatter(X[:, 0], X[:, 1], c=y, s=40, cmap=plt.cm.RdYlBu)\n",
        "    plt.xlim(xx.min(), xx.max())\n",
        "    plt.ylim(yy.min(), yy.max())"
      ],
      "metadata": {
        "id": "0YRzatb8a1P2"
      },
      "execution_count": null,
      "outputs": []
    },
    {
      "cell_type": "code",
      "source": [
        "# Plot decision boundaries for training and test sets\n"
      ],
      "metadata": {
        "id": "PMrcpyirig1d"
      },
      "execution_count": null,
      "outputs": []
    },
    {
      "cell_type": "markdown",
      "source": [
        "## 6. Replicate the Tanh (hyperbolic tangent) activation function in pure PyTorch.\n",
        "  * Feel free to reference the [ML cheatsheet website](https://ml-cheatsheet.readthedocs.io/en/latest/activation_functions.html#tanh) for the formula."
      ],
      "metadata": {
        "id": "EtMYBvtciiAU"
      }
    },
    {
      "cell_type": "code",
      "source": [
        "# Create a straight line tensor\n"
      ],
      "metadata": {
        "id": "BlXaWC5TkEUE"
      },
      "execution_count": null,
      "outputs": []
    },
    {
      "cell_type": "code",
      "source": [
        "# Test torch.tanh() on the tensor and plot it\n"
      ],
      "metadata": {
        "id": "vZPCcQmIkZjO"
      },
      "execution_count": null,
      "outputs": []
    },
    {
      "cell_type": "code",
      "source": [
        "# Replicate torch.tanh() and plot it\n"
      ],
      "metadata": {
        "id": "J-ne__Kjkdc1"
      },
      "execution_count": null,
      "outputs": []
    },
    {
      "cell_type": "markdown",
      "source": [
        "## 7. Create a multi-class dataset using the [spirals data creation function from CS231n](https://cs231n.github.io/neural-networks-case-study/) (see below for the code).\n",
        "  * Split the data into training and test sets (80% train, 20% test) as well as turn it into PyTorch tensors.\n",
        "  * Construct a model capable of fitting the data (you may need a combination of linear and non-linear layers).\n",
        "  * Build a loss function and optimizer capable of handling multi-class data (optional extension: use the Adam optimizer instead of SGD, you may have to experiment with different values of the learning rate to get it working).\n",
        "  * Make a training and testing loop for the multi-class data and train a model on it to reach over 95% testing accuracy (you can use any accuracy measuring function here that you like) - 1000 epochs should be plenty.\n",
        "  * Plot the decision boundaries on the spirals dataset from your model predictions, the `plot_decision_boundary()` function should work for this dataset too."
      ],
      "metadata": {
        "id": "Lbt1bNcWk5G9"
      }
    },
    {
      "cell_type": "code",
      "source": [
        "# Code for creating a spiral dataset from CS231n\n",
        "import numpy as np\n",
        "import matplotlib.pyplot as plt\n",
        "RANDOM_SEED = 42\n",
        "np.random.seed(RANDOM_SEED)\n",
        "N = 100 # number of points per class\n",
        "D = 2 # dimensionality\n",
        "K = 3 # number of classes\n",
        "X_np = np.zeros((N*K,D)) # data matrix (each row = single example)\n",
        "y_np = np.zeros(N*K, dtype='uint8') # class labels\n",
        "for j in range(K):\n",
        "  ix = range(N*j,N*(j+1))\n",
        "  r = np.linspace(0.0,1,N) # radius\n",
        "  t = np.linspace(j*4,(j+1)*4,N) + np.random.randn(N)*0.2 # theta\n",
        "  X_np[ix] = np.c_[r*np.sin(t), r*np.cos(t)]\n",
        "  y_np[ix] = j\n",
        "# lets visualize the data\n",
        "plt.scatter(X_np[:, 0], X_np[:, 1], c=y_np, s=40, cmap=plt.cm.RdYlBu)\n",
        "plt.show()"
      ],
      "metadata": {
        "id": "tU-UNZsKlJls"
      },
      "execution_count": null,
      "outputs": []
    },
    {
      "cell_type": "code",
      "source": [
        "# Turn data into tensors\n",
        "import torch\n",
        "\n",
        "print(f\"torch version: {torch.__version__}\")\n",
        "\n",
        "DEVICE = \"cuda\" if torch.cuda.is_available() else \"cpu\"\n",
        "\n",
        "def printTensorInfo(x_ : torch.Tensor, name_ : str):\n",
        "  print(f\"--- {name_} Info:\")\n",
        "  print(f\"--- Shape: {x_.shape}\")\n",
        "  print(f\"--- Dtype: {x_.dtype}\")\n",
        "  print(f\"--- Device: {x_.device}\")\n",
        "  print(f\"------------------------\")\n",
        "\n",
        "\n",
        "print(f\"Device: {DEVICE}\")\n",
        "\n",
        "X = torch.from_numpy(X_np).type(torch.float).to(DEVICE) # features as float32\n",
        "y = torch.from_numpy(y_np).type(torch.LongTensor).to(DEVICE) # labels need to be of type long\n",
        "\n",
        "printTensorInfo(X, \"X\")\n",
        "printTensorInfo(y, \"y\")\n",
        "\n",
        "# Create train and test splits\n",
        "from sklearn.model_selection import train_test_split\n",
        "\n",
        "# Split into train and test sets\n",
        "X_train, X_test, y_train, y_test = train_test_split(X,\n",
        "                                                    y,\n",
        "                                                    test_size=0.2,\n",
        "                                                    random_state=RANDOM_SEED)\n",
        "\n",
        "printTensorInfo(X_train, \"X_train\")\n",
        "printTensorInfo(y_train, \"y_train\")\n",
        "printTensorInfo(X_test, \"X_test\")\n",
        "printTensorInfo(y_test, \"y_test\")\n",
        "\n",
        "print(f\"First 5 X:\\n{X[:5]}\")\n",
        "print(f\"y:\\n{y[:]}\")"
      ],
      "metadata": {
        "id": "OWVrmkEyl0VP"
      },
      "execution_count": null,
      "outputs": []
    },
    {
      "cell_type": "code",
      "source": [
        "# Let's calculuate the accuracy for when we fit our model\n",
        "try:\n",
        "  print(\"'torchmetrics' already installed!\")\n",
        "  from torchmetrics import Accuracy\n",
        "except:\n",
        "  print(\"Installing 'torchmetrics'...\")\n",
        "  !pip -q install torchmetrics # colab doesn't come with torchmetrics\n",
        "\n",
        "## TODO: uncomment the two lines below to send the accuracy function to the device\n",
        "acc_fn = Accuracy(task=\"multiclass\", num_classes=4).to(DEVICE)\n",
        "acc_fn.device"
      ],
      "metadata": {
        "id": "a-v-7f0op0tG"
      },
      "execution_count": null,
      "outputs": []
    },
    {
      "cell_type": "code",
      "source": [
        "# Create model by subclassing nn.Module\n",
        "from torch import nn\n",
        "\n",
        "class SpiralModel(nn.Module):\n",
        "  def __init__(self, hidden_units=64):\n",
        "      super().__init__()\n",
        "      self.linear_layer_stack = nn.Sequential(\n",
        "          nn.Linear(in_features=2, out_features=hidden_units),\n",
        "          nn.ReLU(), # since the dataset is non linearly spreaded, we need non linear activations\n",
        "          nn.Linear(in_features=hidden_units, out_features=hidden_units),\n",
        "          nn.ReLU(),\n",
        "          nn.Linear(in_features=hidden_units, out_features=3), # how many classes are there?\n",
        "      )\n",
        "\n",
        "  def forward(self, x):\n",
        "      return self.linear_layer_stack(x)\n",
        "\n",
        "\n",
        "# Instantiate model and send it to device\n",
        "spiral_model = SpiralModel().to(DEVICE)\n",
        "\n",
        "print(f\"spiral_model: {spiral_model}\")"
      ],
      "metadata": {
        "id": "DB3u3ldumapf"
      },
      "execution_count": null,
      "outputs": []
    },
    {
      "cell_type": "code",
      "source": [
        "# Print out first 10 untrained model outputs (forward pass)\n",
        "print(\"Logits:\")\n",
        "## Your code here ##\n",
        "\n",
        "spiral_model.eval()\n",
        "\n",
        "with torch.inference_mode():\n",
        "  y_lg_untr = spiral_model(X_train)\n",
        "\n",
        "print(y_lg_untr[:5])\n",
        "\n",
        "print(\"Pred probs:\")\n",
        "\n",
        "## Your code here ##\n",
        "y_pp_untr = torch.softmax(y_lg_untr, dim=1)\n",
        "\n",
        "print(y_pp_untr[:5])\n",
        "\n",
        "print(\"Pred labels:\")\n",
        "## Your code here ##\n",
        "y_pl_untr = torch.argmax(y_pp_untr, dim=1)\n",
        "\n",
        "print(y_pl_untr[:5])\n",
        "\n",
        "## Compute accuracy of untrained model\n",
        "print(f\"Accuracy: {acc_fn(y_pl_untr, y_train):.2f}%\")"
      ],
      "metadata": {
        "id": "QE7XWSSunMTS"
      },
      "execution_count": null,
      "outputs": []
    },
    {
      "cell_type": "code",
      "source": [
        "# Setup loss function and optimizer\n",
        "loss_fn = torch.nn.CrossEntropyLoss()\n",
        "optimizer = torch.optim.SGD(spiral_model.parameters(),\n",
        "                            lr=0.1)"
      ],
      "metadata": {
        "id": "54EqLRKLo0AW"
      },
      "execution_count": null,
      "outputs": []
    },
    {
      "cell_type": "code",
      "source": [
        "# Build a training loop for the model\n",
        "\n",
        "epochs = 1000\n",
        "\n",
        "# Loop over data\n",
        "for epoch in range(epochs):\n",
        "  ## Training\n",
        "  spiral_model.train()\n",
        "\n",
        "  # 1. Forward pass\n",
        "  y_lg = spiral_model(X_train)\n",
        "\n",
        "  # 1.1 compute accuracy (wrt predicted labels!)\n",
        "  y_pp = torch.softmax(y_lg, dim=1)\n",
        "  y_pl = torch.argmax(y_pp, dim=1)\n",
        "\n",
        "  acc = acc_fn(y_pl, y_train)\n",
        "\n",
        "  # 2. Calculate the loss\n",
        "  loss = loss_fn(y_lg, y_train)\n",
        "\n",
        "  # 3. Optimizer zero grad\n",
        "  optimizer.zero_grad()\n",
        "\n",
        "  # 4. Loss backward\n",
        "  loss.backward()\n",
        "\n",
        "  # 5. Optimizer step\n",
        "  optimizer.step()\n",
        "\n",
        "  ## Testing\n",
        "  spiral_model.eval()\n",
        "\n",
        "  with torch.inference_mode():\n",
        "    # 1. Forward pass\n",
        "    y_lg_test = spiral_model(X_test)\n",
        "\n",
        "    # 2. Caculate loss and acc\n",
        "    test_loss = loss_fn(y_lg_test, y_test)\n",
        "\n",
        "    y_pp_test = torch.softmax(y_lg_test, dim=1)\n",
        "    y_pl_test = torch.argmax(y_pp_test, dim=1)\n",
        "\n",
        "    test_acc = acc_fn(y_pl_test, y_test)\n",
        "\n",
        "  # Print out what's happening every 100 epochs\n",
        "    if epoch % 100 == 0:\n",
        "        print(f\"Epoch: {epoch} | Loss: {loss:.5f}, Acc: {acc:.2f}% | Test Loss: {test_loss:.5f}, Test Acc: {test_acc:.2f}%\")\n",
        ""
      ],
      "metadata": {
        "id": "vIlExkUHnmxi"
      },
      "execution_count": null,
      "outputs": []
    },
    {
      "cell_type": "code",
      "source": [
        "# Plot decision boundaries for training and test sets\n",
        "plt.figure()\n",
        "plt.title(\"Train dataset\")\n",
        "plot_decision_boundary(spiral_model, X_train, y_pl)\n",
        "\n",
        "plt.figure()\n",
        "plt.title(\"Test dataset\")\n",
        "plot_decision_boundary(spiral_model, X_test, y_pl_test)"
      ],
      "metadata": {
        "id": "JrwVRbaE0keT"
      },
      "execution_count": null,
      "outputs": []
    },
    {
      "cell_type": "code",
      "source": [],
      "metadata": {
        "id": "pCg7Ef1V9bdz"
      },
      "execution_count": null,
      "outputs": []
    }
  ]
}