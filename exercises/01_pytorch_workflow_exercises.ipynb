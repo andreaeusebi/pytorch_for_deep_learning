{
  "nbformat": 4,
  "nbformat_minor": 0,
  "metadata": {
    "colab": {
      "provenance": [],
      "gpuType": "T4",
      "authorship_tag": "ABX9TyMlwqjsPazDgYYZO1cgHAag",
      "include_colab_link": true
    },
    "kernelspec": {
      "name": "python3",
      "display_name": "Python 3"
    },
    "language_info": {
      "name": "python"
    },
    "accelerator": "GPU"
  },
  "cells": [
    {
      "cell_type": "markdown",
      "metadata": {
        "id": "view-in-github",
        "colab_type": "text"
      },
      "source": [
        "<a href=\"https://colab.research.google.com/github/andreaeusebi/pytorch_for_deep_learning/blob/main/exercises/01_pytorch_workflow_exercises.ipynb\" target=\"_parent\"><img src=\"https://colab.research.google.com/assets/colab-badge.svg\" alt=\"Open In Colab\"/></a>"
      ]
    },
    {
      "cell_type": "markdown",
      "source": [
        "# 01. PyTorch Workflow Fundamentals Exercises"
      ],
      "metadata": {
        "id": "YpoLIj_qWqqA"
      }
    },
    {
      "cell_type": "code",
      "source": [
        "import torch\n",
        "print(torch.__version__)"
      ],
      "metadata": {
        "colab": {
          "base_uri": "https://localhost:8080/"
        },
        "id": "smj5pLuGdM2k",
        "outputId": "cbe0da44-e72f-4ec6-f03b-1a5f08fb0498"
      },
      "execution_count": 308,
      "outputs": [
        {
          "output_type": "stream",
          "name": "stdout",
          "text": [
            "2.1.0+cu121\n"
          ]
        }
      ]
    },
    {
      "cell_type": "code",
      "source": [
        "# Setup device agnostic code\n",
        "device = \"cuda\" if torch.cuda.is_available() else \"cpu\"\n",
        "print(f\"Using device: {device}\")"
      ],
      "metadata": {
        "colab": {
          "base_uri": "https://localhost:8080/"
        },
        "id": "xHm1ftTmZj9D",
        "outputId": "906c2450-9f33-4b20-b809-0d80a562f9f1"
      },
      "execution_count": 309,
      "outputs": [
        {
          "output_type": "stream",
          "name": "stdout",
          "text": [
            "Using device: cuda\n"
          ]
        }
      ]
    },
    {
      "cell_type": "markdown",
      "source": [
        "## 1. Create a straight line dataset using the linear regression formula weight * X + bias).\n",
        "\n",
        "Set weight=0.3 and bias=0.9 there should be at least 100 datapoints total."
      ],
      "metadata": {
        "id": "QU57HUxpdKGE"
      }
    },
    {
      "cell_type": "code",
      "source": [
        "weight    = 0.3\n",
        "bias      = 0.9\n",
        "\n",
        "begin     = 0.0\n",
        "end       = 1.0\n",
        "step      = 0.02\n",
        "\n",
        "X_dataset = torch.arange(begin, end, step).unsqueeze(dim=1)\n",
        "y_dataset = weight * X_dataset + bias\n",
        "\n",
        "print(f\"X_dataset:\\n {X_dataset[:10]}\\nShape: {X_dataset.shape}\")\n",
        "print(f\"y_dataset:\\n {y_dataset[:10]}\\nShape: {y_dataset.shape}\")"
      ],
      "metadata": {
        "colab": {
          "base_uri": "https://localhost:8080/"
        },
        "id": "bGoFMp52dg4R",
        "outputId": "00a830c5-f1c1-4776-b659-543c35fe1da3"
      },
      "execution_count": 310,
      "outputs": [
        {
          "output_type": "stream",
          "name": "stdout",
          "text": [
            "X_dataset:\n",
            " tensor([[0.0000],\n",
            "        [0.0200],\n",
            "        [0.0400],\n",
            "        [0.0600],\n",
            "        [0.0800],\n",
            "        [0.1000],\n",
            "        [0.1200],\n",
            "        [0.1400],\n",
            "        [0.1600],\n",
            "        [0.1800]])\n",
            "Shape: torch.Size([50, 1])\n",
            "y_dataset:\n",
            " tensor([[0.9000],\n",
            "        [0.9060],\n",
            "        [0.9120],\n",
            "        [0.9180],\n",
            "        [0.9240],\n",
            "        [0.9300],\n",
            "        [0.9360],\n",
            "        [0.9420],\n",
            "        [0.9480],\n",
            "        [0.9540]])\n",
            "Shape: torch.Size([50, 1])\n"
          ]
        }
      ]
    },
    {
      "cell_type": "markdown",
      "source": [
        "Split the data into 80% training, 20% testing."
      ],
      "metadata": {
        "id": "4HSyJbfdfJJ-"
      }
    },
    {
      "cell_type": "code",
      "source": [
        "data_size = len(X_dataset)\n",
        "print(f\"data_size: {data_size}\")\n",
        "\n",
        "train_percent = 0.8\n",
        "train_size = int(data_size * train_percent)\n",
        "test_size = data_size - train_size\n",
        "\n",
        "print(f\"train_size: {train_size}\")\n",
        "print(f\"test_size: {test_size}\")\n",
        "\n",
        "X_train = X_dataset[:train_size]\n",
        "y_train = y_dataset[:train_size]\n",
        "\n",
        "print(f\"X_train:\\n {X_train[:10]}\\nShape: {X_train.shape}\")\n",
        "print(f\"y_train:\\n {y_train[:10]}\\nShape: {y_train.shape}\")\n",
        "\n",
        "X_test = X_dataset[train_size:]\n",
        "y_test = y_dataset[train_size:]\n",
        "\n",
        "print(f\"X_test:\\n {X_test[:10]}\\nShape: {X_test.shape}\")\n",
        "print(f\"y_test:\\n {y_test[:10]}\\nShape: {y_test.shape}\")\n"
      ],
      "metadata": {
        "colab": {
          "base_uri": "https://localhost:8080/"
        },
        "id": "IsT_4OfeeH03",
        "outputId": "c5e0d180-38fd-4dd8-e87f-5b09bf00c8cc"
      },
      "execution_count": 311,
      "outputs": [
        {
          "output_type": "stream",
          "name": "stdout",
          "text": [
            "data_size: 50\n",
            "train_size: 40\n",
            "test_size: 10\n",
            "X_train:\n",
            " tensor([[0.0000],\n",
            "        [0.0200],\n",
            "        [0.0400],\n",
            "        [0.0600],\n",
            "        [0.0800],\n",
            "        [0.1000],\n",
            "        [0.1200],\n",
            "        [0.1400],\n",
            "        [0.1600],\n",
            "        [0.1800]])\n",
            "Shape: torch.Size([40, 1])\n",
            "y_train:\n",
            " tensor([[0.9000],\n",
            "        [0.9060],\n",
            "        [0.9120],\n",
            "        [0.9180],\n",
            "        [0.9240],\n",
            "        [0.9300],\n",
            "        [0.9360],\n",
            "        [0.9420],\n",
            "        [0.9480],\n",
            "        [0.9540]])\n",
            "Shape: torch.Size([40, 1])\n",
            "X_test:\n",
            " tensor([[0.8000],\n",
            "        [0.8200],\n",
            "        [0.8400],\n",
            "        [0.8600],\n",
            "        [0.8800],\n",
            "        [0.9000],\n",
            "        [0.9200],\n",
            "        [0.9400],\n",
            "        [0.9600],\n",
            "        [0.9800]])\n",
            "Shape: torch.Size([10, 1])\n",
            "y_test:\n",
            " tensor([[1.1400],\n",
            "        [1.1460],\n",
            "        [1.1520],\n",
            "        [1.1580],\n",
            "        [1.1640],\n",
            "        [1.1700],\n",
            "        [1.1760],\n",
            "        [1.1820],\n",
            "        [1.1880],\n",
            "        [1.1940]])\n",
            "Shape: torch.Size([10, 1])\n"
          ]
        }
      ]
    },
    {
      "cell_type": "markdown",
      "source": [
        "Plot the training and testing data so it becomes visual."
      ],
      "metadata": {
        "id": "NGsv9H9jgCGy"
      }
    },
    {
      "cell_type": "code",
      "source": [
        "import matplotlib.pyplot as plt"
      ],
      "metadata": {
        "id": "YDFT18EIfW7k"
      },
      "execution_count": 312,
      "outputs": []
    },
    {
      "cell_type": "code",
      "source": [
        "def plot_prediction(train_data=X_train,\n",
        "                    train_labels=y_train,\n",
        "                    test_data=X_test,\n",
        "                    test_labels=y_test,\n",
        "                    predictions=None):\n",
        "  plt.figure(figsize=(10, 7))\n",
        "\n",
        "  plt.scatter(train_data, train_labels, c=\"b\", s=4, label=\"Training Data\")\n",
        "  plt.scatter(test_data, test_labels, c=\"g\", s=4, label=\"Testing Data\")\n",
        "\n",
        "  if predictions is not None:\n",
        "    plt.scatter(test_data, predictions, c=\"r\", s=4, label=\"Predictions\")\n",
        "\n",
        "  plt.legend()"
      ],
      "metadata": {
        "id": "Nus_U2MkgE10"
      },
      "execution_count": 313,
      "outputs": []
    },
    {
      "cell_type": "code",
      "source": [
        "plot_prediction()"
      ],
      "metadata": {
        "colab": {
          "base_uri": "https://localhost:8080/",
          "height": 599
        },
        "id": "LeD5nb4MgNPz",
        "outputId": "7898da18-85b3-4bc3-c659-2e100e949616"
      },
      "execution_count": 314,
      "outputs": [
        {
          "output_type": "display_data",
          "data": {
            "text/plain": [
              "<Figure size 1000x700 with 1 Axes>"
            ],
            "image/png": "[encoded data removed]"
          },
          "metadata": {}
        }
      ]
    },
    {
      "cell_type": "markdown",
      "source": [
        "## 2. Build a PyTorch model by subclassing nn.Module.\n",
        "\n",
        "Inside should be a randomly initialized nn.Parameter() with requires_grad=True, one for weights and one for bias.\n",
        "\n",
        "Implement the forward() method to compute the linear regression function you used to create the dataset in 1."
      ],
      "metadata": {
        "id": "4E1OSDcug2eb"
      }
    },
    {
      "cell_type": "code",
      "source": [
        "from torch import nn"
      ],
      "metadata": {
        "id": "JHs7q_YAgPgz"
      },
      "execution_count": 315,
      "outputs": []
    },
    {
      "cell_type": "code",
      "source": [
        "class LinearRegressionModel(nn.Module):\n",
        "  def __init__(self):\n",
        "    super().__init__()\n",
        "\n",
        "    ### METHOD WITH nn.Parameter() ###\n",
        "    # self.weights = nn.Parameter(data=torch.randn(1),\n",
        "    #                             requires_grad=True)\n",
        "\n",
        "    # self.bias = nn.Parameter(data=torch.randn(1),\n",
        "    #                          requires_grad=True)\n",
        "\n",
        "    ### METHOD WITH nn.Linear() ###\n",
        "    self.linear_layer = nn.Linear(in_features=1,\n",
        "                                  out_features=1,\n",
        "                                  bias=True)\n",
        "\n",
        "\n",
        "  def forward(self, x : torch.Tensor) -> torch.Tensor :\n",
        "    ### METHOD WITH nn.Parameter() ###\n",
        "    # return self.weight * x + self.bias\n",
        "\n",
        "    ### METHOD WITH nn.Linear() ###\n",
        "    return self.linear_layer(x)"
      ],
      "metadata": {
        "id": "o5wVyuD1hhjG"
      },
      "execution_count": 316,
      "outputs": []
    },
    {
      "cell_type": "markdown",
      "source": [
        "Once you've constructed the model, make an instance of it and check its state_dict()."
      ],
      "metadata": {
        "id": "Cuok8dSBh3Qj"
      }
    },
    {
      "cell_type": "code",
      "source": [
        "my_model = LinearRegressionModel()\n",
        "\n",
        "print(my_model.state_dict())"
      ],
      "metadata": {
        "colab": {
          "base_uri": "https://localhost:8080/"
        },
        "id": "G7JgiiEpjLlE",
        "outputId": "b6251611-8dcf-47f1-99f9-4689572907db"
      },
      "execution_count": 317,
      "outputs": [
        {
          "output_type": "stream",
          "name": "stdout",
          "text": [
            "OrderedDict([('linear_layer.weight', tensor([[0.0247]])), ('linear_layer.bias', tensor([0.8538]))])\n"
          ]
        }
      ]
    },
    {
      "cell_type": "code",
      "source": [
        "# Check model device\n",
        "print(next(my_model.parameters()).device)\n",
        "\n",
        "my_model.to(device)\n",
        "\n",
        "print(next(my_model.parameters()).device)\n",
        "print(my_model.state_dict())"
      ],
      "metadata": {
        "colab": {
          "base_uri": "https://localhost:8080/"
        },
        "id": "YikIO5q7mT2Z",
        "outputId": "5d0573e5-3741-43d5-db13-5371bf547dfd"
      },
      "execution_count": 318,
      "outputs": [
        {
          "output_type": "stream",
          "name": "stdout",
          "text": [
            "cpu\n",
            "cuda:0\n",
            "OrderedDict([('linear_layer.weight', tensor([[0.0247]], device='cuda:0')), ('linear_layer.bias', tensor([0.8538], device='cuda:0'))])\n"
          ]
        }
      ]
    },
    {
      "cell_type": "code",
      "source": [
        "# Check device in which are stored the data\n",
        "print(f\"X_train device: {X_train.device}\")\n",
        "print(f\"y_train device: {y_train.device}\")\n",
        "print(f\"X_test device: {X_test.device}\")\n",
        "print(f\"y_test device: {y_test.device}\")\n",
        "\n",
        "# Set all input data to device\n",
        "X_train = X_train.to(device)\n",
        "y_train = y_train.to(device)\n",
        "X_test = X_test.to(device)\n",
        "y_test = y_test.to(device)\n",
        "\n",
        "print(f\"X_train device: {X_train.device}\")\n",
        "print(f\"y_train device: {y_train.device}\")\n",
        "print(f\"X_test device: {X_test.device}\")\n",
        "print(f\"y_test device: {y_test.device}\")"
      ],
      "metadata": {
        "colab": {
          "base_uri": "https://localhost:8080/"
        },
        "id": "pl7BPVjhmZkL",
        "outputId": "c08b709a-2b2c-4221-e1e3-982c97bd085e"
      },
      "execution_count": 319,
      "outputs": [
        {
          "output_type": "stream",
          "name": "stdout",
          "text": [
            "X_train device: cpu\n",
            "y_train device: cpu\n",
            "X_test device: cpu\n",
            "y_test device: cpu\n",
            "X_train device: cuda:0\n",
            "y_train device: cuda:0\n",
            "X_test device: cuda:0\n",
            "y_test device: cuda:0\n"
          ]
        }
      ]
    },
    {
      "cell_type": "markdown",
      "source": [
        "## 3. Create a loss function and optimizer using nn.L1Loss() and torch.optim.SGD(params, lr) respectively.\n",
        "\n",
        "Set the learning rate of the optimizer to be 0.01 and the parameters to optimize should be the model parameters from the model you created in 2."
      ],
      "metadata": {
        "id": "dVx1UL5SjREi"
      }
    },
    {
      "cell_type": "code",
      "source": [
        "learning_rate = 0.01\n",
        "\n",
        "loss_fn = nn.L1Loss()\n",
        "\n",
        "optimizer = torch.optim.SGD(my_model.parameters(),\n",
        "                            lr=learning_rate)"
      ],
      "metadata": {
        "id": "k512xX68kpbF"
      },
      "execution_count": 320,
      "outputs": []
    },
    {
      "cell_type": "code",
      "source": [
        "# check prediction using initial random model parameters\n",
        "\n",
        "# Turn model into evaluation mode\n",
        "my_model.eval()\n",
        "\n",
        "# Make predictions on the test data\n",
        "with torch.inference_mode():\n",
        "  pred_random = my_model(X_test)"
      ],
      "metadata": {
        "id": "ESeUe3hNlWMF"
      },
      "execution_count": 321,
      "outputs": []
    },
    {
      "cell_type": "code",
      "source": [
        "plot_prediction(predictions=pred_random.cpu())"
      ],
      "metadata": {
        "colab": {
          "base_uri": "https://localhost:8080/",
          "height": 599
        },
        "id": "R0GgcjiOm8ZV",
        "outputId": "ab232bce-6375-4c3f-97f7-1472cbd6b8f2"
      },
      "execution_count": 322,
      "outputs": [
        {
          "output_type": "display_data",
          "data": {
            "text/plain": [
              "<Figure size 1000x700 with 1 Axes>"
            ],
            "image/png": "[encoded data removed]"
          },
          "metadata": {}
        }
      ]
    },
    {
      "cell_type": "markdown",
      "source": [
        "Write a training loop to perform the appropriate training steps for 300 epochs.\n",
        "The training loop should test the model on the test dataset every 20 epochs."
      ],
      "metadata": {
        "id": "sra9C9HpoDeF"
      }
    },
    {
      "cell_type": "code",
      "source": [
        "epochs = 300\n",
        "\n",
        "# Track different values\n",
        "epoch_count = []\n",
        "loss_values = []\n",
        "test_loss_values = []\n",
        "\n",
        "for epoch in range(epochs):\n",
        "  ### TRAINING ###\n",
        "  my_model.train()\n",
        "\n",
        "  y_pred = my_model(X_train)\n",
        "\n",
        "  loss = loss_fn(y_pred, y_train)\n",
        "\n",
        "  optimizer.zero_grad()\n",
        "\n",
        "  loss.backward()\n",
        "\n",
        "  optimizer.step()\n",
        "\n",
        "  ### TESTING ###\n",
        "  my_model.eval() # turns off different settings in the model not needed for evaluation/testing\n",
        "\n",
        "  with torch.inference_mode(): # turns off gradient tracking\n",
        "    # 1. Forward pass\n",
        "    test_pred = my_model(X_test)\n",
        "\n",
        "    # 2. Calculate the loss on test data\n",
        "    test_loss = loss_fn(test_pred, y_test)\n",
        "\n",
        "    if epoch % 20 == 0:\n",
        "      print(f\"Epoch: {epoch} | Loss: {loss} | Test loss: {test_loss} | Params: {my_model.state_dict()}\")\n",
        "\n",
        "      # Record data\n",
        "      epoch_count.append(epoch)\n",
        "      loss_values.append(loss.item())\n",
        "      test_loss_values.append(test_loss.item())"
      ],
      "metadata": {
        "colab": {
          "base_uri": "https://localhost:8080/"
        },
        "id": "tL0pvIRcpZsk",
        "outputId": "df8b5543-78ee-4a82-b426-db2615bd3c08"
      },
      "execution_count": 323,
      "outputs": [
        {
          "output_type": "stream",
          "name": "stdout",
          "text": [
            "Epoch: 0 | Loss: 0.15359066426753998 | Test loss: 0.27776816487312317 | Params: OrderedDict([('linear_layer.weight', tensor([[0.0286]], device='cuda:0')), ('linear_layer.bias', tensor([0.8638], device='cuda:0'))])\n",
            "Epoch: 20 | Loss: 0.04181395098567009 | Test loss: 0.10846749693155289 | Params: OrderedDict([('linear_layer.weight', tensor([[0.0952]], device='cuda:0')), ('linear_layer.bias', tensor([0.9738], device='cuda:0'))])\n",
            "Epoch: 40 | Loss: 0.03379100561141968 | Test loss: 0.07832729071378708 | Params: OrderedDict([('linear_layer.weight', tensor([[0.1336]], device='cuda:0')), ('linear_layer.bias', tensor([0.9698], device='cuda:0'))])\n",
            "Epoch: 60 | Loss: 0.02691550925374031 | Test loss: 0.06246953085064888 | Params: OrderedDict([('linear_layer.weight', tensor([[0.1677]], device='cuda:0')), ('linear_layer.bias', tensor([0.9553], device='cuda:0'))])\n",
            "Epoch: 80 | Loss: 0.02004859410226345 | Test loss: 0.04592490196228027 | Params: OrderedDict([('linear_layer.weight', tensor([[0.2020]], device='cuda:0')), ('linear_layer.bias', tensor([0.9413], device='cuda:0'))])\n",
            "Epoch: 100 | Loss: 0.013183782808482647 | Test loss: 0.030067170038819313 | Params: OrderedDict([('linear_layer.weight', tensor([[0.2361]], device='cuda:0')), ('linear_layer.bias', tensor([0.9268], device='cuda:0'))])\n",
            "Epoch: 120 | Loss: 0.006311589386314154 | Test loss: 0.014209330081939697 | Params: OrderedDict([('linear_layer.weight', tensor([[0.2702]], device='cuda:0')), ('linear_layer.bias', tensor([0.9123], device='cuda:0'))])\n",
            "Epoch: 140 | Loss: 0.007250477559864521 | Test loss: 0.008173942565917969 | Params: OrderedDict([('linear_layer.weight', tensor([[0.2922]], device='cuda:0')), ('linear_layer.bias', tensor([0.8988], device='cuda:0'))])\n",
            "Epoch: 160 | Loss: 0.007250477559864521 | Test loss: 0.008173942565917969 | Params: OrderedDict([('linear_layer.weight', tensor([[0.2922]], device='cuda:0')), ('linear_layer.bias', tensor([0.8988], device='cuda:0'))])\n",
            "Epoch: 180 | Loss: 0.007250477559864521 | Test loss: 0.008173942565917969 | Params: OrderedDict([('linear_layer.weight', tensor([[0.2922]], device='cuda:0')), ('linear_layer.bias', tensor([0.8988], device='cuda:0'))])\n",
            "Epoch: 200 | Loss: 0.007250477559864521 | Test loss: 0.008173942565917969 | Params: OrderedDict([('linear_layer.weight', tensor([[0.2922]], device='cuda:0')), ('linear_layer.bias', tensor([0.8988], device='cuda:0'))])\n",
            "Epoch: 220 | Loss: 0.007250477559864521 | Test loss: 0.008173942565917969 | Params: OrderedDict([('linear_layer.weight', tensor([[0.2922]], device='cuda:0')), ('linear_layer.bias', tensor([0.8988], device='cuda:0'))])\n",
            "Epoch: 240 | Loss: 0.007250477559864521 | Test loss: 0.008173942565917969 | Params: OrderedDict([('linear_layer.weight', tensor([[0.2922]], device='cuda:0')), ('linear_layer.bias', tensor([0.8988], device='cuda:0'))])\n",
            "Epoch: 260 | Loss: 0.007250477559864521 | Test loss: 0.008173942565917969 | Params: OrderedDict([('linear_layer.weight', tensor([[0.2922]], device='cuda:0')), ('linear_layer.bias', tensor([0.8988], device='cuda:0'))])\n",
            "Epoch: 280 | Loss: 0.007250477559864521 | Test loss: 0.008173942565917969 | Params: OrderedDict([('linear_layer.weight', tensor([[0.2922]], device='cuda:0')), ('linear_layer.bias', tensor([0.8988], device='cuda:0'))])\n"
          ]
        }
      ]
    },
    {
      "cell_type": "markdown",
      "source": [
        "## 4.Make predictions with the trained model on the test data.\n",
        "\n",
        "Visualize these predictions against the original training and testing data (note: you may need to make sure the predictions are not on the GPU if you want to use non-CUDA-enabled libraries such as matplotlib to plot)."
      ],
      "metadata": {
        "id": "aofFD7wPqpQx"
      }
    },
    {
      "cell_type": "code",
      "source": [
        "# Plot loss curves\n",
        "plt.plot(epoch_count, loss_values, label=\"Train Loss\")\n",
        "plt.plot(epoch_count, test_loss_values, label=\"Test Loss\")\n",
        "plt.title(\"Training and Test Loss Curves\")\n",
        "plt.legend()"
      ],
      "metadata": {
        "colab": {
          "base_uri": "https://localhost:8080/",
          "height": 469
        },
        "id": "nKVhrG9ep8KG",
        "outputId": "40e25662-e961-48d9-a1fc-b99390aaa54d"
      },
      "execution_count": 324,
      "outputs": [
        {
          "output_type": "execute_result",
          "data": {
            "text/plain": [
              "<matplotlib.legend.Legend at 0x7d8df6d36470>"
            ]
          },
          "metadata": {},
          "execution_count": 324
        },
        {
          "output_type": "display_data",
          "data": {
            "text/plain": [
              "<Figure size 640x480 with 1 Axes>"
            ],
            "image/png": "[encoded data removed]"
          },
          "metadata": {}
        }
      ]
    },
    {
      "cell_type": "code",
      "source": [
        "my_model.eval()\n",
        "with torch.inference_mode():\n",
        "  test_pred = my_model(X_test)\n",
        "\n",
        "# Plot predictions\n",
        "plot_prediction(predictions=test_pred.cpu())"
      ],
      "metadata": {
        "colab": {
          "base_uri": "https://localhost:8080/",
          "height": 599
        },
        "id": "oAD64Il6q789",
        "outputId": "7aaab1f7-b69b-444c-e5e9-877bc321fac1"
      },
      "execution_count": 325,
      "outputs": [
        {
          "output_type": "display_data",
          "data": {
            "text/plain": [
              "<Figure size 1000x700 with 1 Axes>"
            ],
            "image/png": "[encoded data removed]"
          },
          "metadata": {}
        }
      ]
    },
    {
      "cell_type": "markdown",
      "source": [
        "## 5. Save your trained model's state_dict() to file."
      ],
      "metadata": {
        "id": "HAf6LCZfrLET"
      }
    },
    {
      "cell_type": "code",
      "source": [
        "from pathlib import Path\n",
        "\n",
        "# 1. Create models directory\n",
        "MODEL_PATH = Path(\"models\")\n",
        "MODEL_PATH.mkdir(parents=True, exist_ok=True)\n",
        "\n",
        "# 2. Create model save path\n",
        "MODEL_NAME = \"my_model.pth\"\n",
        "MODEL_SAVE_PATH = MODEL_PATH / MODEL_NAME\n",
        "\n",
        "# 3. Save the model state dict\n",
        "print(f\"Saving model to: {MODEL_SAVE_PATH}\")\n",
        "torch.save(obj=my_model.state_dict(), # only saving the state_dict() only saves the models learned parameters\n",
        "           f=MODEL_SAVE_PATH)"
      ],
      "metadata": {
        "colab": {
          "base_uri": "https://localhost:8080/"
        },
        "id": "mSSGftNFr27k",
        "outputId": "f4ba9027-3b54-4971-85e2-f15528442bb1"
      },
      "execution_count": 327,
      "outputs": [
        {
          "output_type": "stream",
          "name": "stdout",
          "text": [
            "Saving model to: models/my_model.pth\n"
          ]
        }
      ]
    },
    {
      "cell_type": "markdown",
      "source": [
        "Create a new instance of your model class you made in 2. and load in the state_dict() you just saved to it."
      ],
      "metadata": {
        "id": "lPgMtRVUr6l-"
      }
    },
    {
      "cell_type": "code",
      "source": [
        "my_model2 = LinearRegressionModel()"
      ],
      "metadata": {
        "id": "c4sSVuumr68D"
      },
      "execution_count": 328,
      "outputs": []
    },
    {
      "cell_type": "code",
      "source": [
        "my_model2.load_state_dict(torch.load(f=MODEL_SAVE_PATH))"
      ],
      "metadata": {
        "colab": {
          "base_uri": "https://localhost:8080/"
        },
        "id": "8L-W3gCWsVYG",
        "outputId": "6565aa39-0613-450c-b35a-06f4e0f20647"
      },
      "execution_count": 330,
      "outputs": [
        {
          "output_type": "execute_result",
          "data": {
            "text/plain": [
              "<All keys matched successfully>"
            ]
          },
          "metadata": {},
          "execution_count": 330
        }
      ]
    },
    {
      "cell_type": "code",
      "source": [
        "print(f\"Model 1 params:\\n{my_model.state_dict()}\")\n",
        "print(f\"Model 2 params:\\n{my_model2.state_dict()}\")"
      ],
      "metadata": {
        "colab": {
          "base_uri": "https://localhost:8080/"
        },
        "id": "MZqAC0X6sf5l",
        "outputId": "5fca3c4e-e551-4179-9d6f-c2f3ed7b7405"
      },
      "execution_count": 332,
      "outputs": [
        {
          "output_type": "stream",
          "name": "stdout",
          "text": [
            "Model 1 params:\n",
            "OrderedDict([('linear_layer.weight', tensor([[0.2961]], device='cuda:0')), ('linear_layer.bias', tensor([0.9088], device='cuda:0'))])\n",
            "Model 2 params:\n",
            "OrderedDict([('linear_layer.weight', tensor([[0.2961]])), ('linear_layer.bias', tensor([0.9088]))])\n"
          ]
        }
      ]
    },
    {
      "cell_type": "code",
      "source": [
        "# load model 2 to cuda\n",
        "my_model2.to(device)\n",
        "\n",
        "print(f\"Model 2 params:\\n{my_model2.state_dict()}\")"
      ],
      "metadata": {
        "colab": {
          "base_uri": "https://localhost:8080/"
        },
        "id": "1XBWpUkdsodV",
        "outputId": "a207237f-4db0-4fe8-f255-8abaae0fb5c3"
      },
      "execution_count": 333,
      "outputs": [
        {
          "output_type": "stream",
          "name": "stdout",
          "text": [
            "Model 2 params:\n",
            "OrderedDict([('linear_layer.weight', tensor([[0.2961]], device='cuda:0')), ('linear_layer.bias', tensor([0.9088], device='cuda:0'))])\n"
          ]
        }
      ]
    },
    {
      "cell_type": "markdown",
      "source": [
        "Perform predictions on your test data with the loaded model and confirm they match the original model predictions from 4."
      ],
      "metadata": {
        "id": "70OPgX2xs4k1"
      }
    },
    {
      "cell_type": "code",
      "source": [
        "my_model2.eval()\n",
        "with torch.inference_mode():\n",
        "  model2_test_pred = my_model2(X_test)\n",
        "\n",
        "# Plot predictions\n",
        "plot_prediction(predictions=model2_test_pred.cpu())"
      ],
      "metadata": {
        "colab": {
          "base_uri": "https://localhost:8080/",
          "height": 599
        },
        "id": "peugOUv6s2Dl",
        "outputId": "1b95b5be-99be-4174-a76d-31c8ac9992ef"
      },
      "execution_count": 334,
      "outputs": [
        {
          "output_type": "display_data",
          "data": {
            "text/plain": [
              "<Figure size 1000x700 with 1 Axes>"
            ],
            "image/png": "[encoded data removed]"
          },
          "metadata": {}
        }
      ]
    },
    {
      "cell_type": "code",
      "source": [],
      "metadata": {
        "id": "f6yntfDVs9YG"
      },
      "execution_count": null,
      "outputs": []
    }
  ]
}